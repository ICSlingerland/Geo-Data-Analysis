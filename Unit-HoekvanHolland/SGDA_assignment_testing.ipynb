{
 "cells": [
  {
   "cell_type": "markdown",
   "metadata": {
    "cell_id": "4ba67d23466240fbb666fc04d7594bb3",
    "deepnote_cell_type": "markdown"
   },
   "source": [
    "<figure>\n",
    "  <IMG SRC=\"https://raw.githubusercontent.com/mbakker7/exploratory_computing_with_python/master/tudelft_logo.png\" WIDTH=300 ALIGN=\"right\">\n",
    "</figure>\n",
    "\n",
    "# EO1 Statistical Geo-Data Analysis\n",
    "\n",
    "\n",
    "## Project on Estimation, Testing and DIA Theory"
   ]
  },
  {
   "cell_type": "markdown",
   "metadata": {
    "cell_id": "7ed9a2b4c10b4e2b8c0da1e3fbccc260",
    "deepnote_cell_type": "markdown"
   },
   "source": [
    "### Introduction\n",
    "In this project, we will model the sea level rise making use of the **estimation**, **testing** and **DIA** (Detection, Identification and Adaptation) theory. We are simplifying the observations to 1-Dimension, focusing on heights (_measurements of tide gauges_) at different times. The assignment consists of three parts:\n",
    "\n",
    "1. **Estimation Part**: You will estimate the drift parameters with different models and estimators. Make sure to compare and explain your results.\n",
    "2. **Testing Part**: You will apply the testing theory to select the model that best fits the observations.\n",
    "3. **DIA Part**: You will formulate the DIA estimator and explore its properties. \n",
    "\n",
    "_Some guidelines to keep in mind_:\n",
    "- We do not require a separate report; all code and answers should be within this Notebook.\n",
    "- Your code and answers should be self-contained, i.e. explain how you obtained your results.\n",
    "- The analysis and interpretation of your results are at least equally important as the results themselves (numerical solutions and plots).\n",
    "- Include the plots that you are asked to make. Ensure that the plots include axis labels with appropriate units.\n",
    "- Print the numerical results, with units and proper number of significant digits.\n",
    "\n",
    "### Objectives\n",
    "In this assignment you will learn to:\n",
    "- Set up the linear observation models,\n",
    "- Understand the differences and connections between LS, WLS and BLUE,\n",
    "- Solve the conditioned and constrained linear model,\n",
    "- Select the best fit model with statistical testing theory,\n",
    "- Formulate a DIA estimator,\n",
    "- Analyze the properties of a DIA estimator."
   ]
  },
  {
   "cell_type": "code",
   "execution_count": 1,
   "metadata": {
    "cell_id": "9a17e83c85174db09af59a028d180a43",
    "deepnote_cell_type": "code",
    "deepnote_to_be_reexecuted": false,
    "execution_millis": 55,
    "execution_start": 1710422085242,
    "source_hash": null
   },
   "outputs": [],
   "source": [
    "# Import Modules\n",
    "import numpy as np\n",
    "import scipy.linalg as la\n",
    "import matplotlib.pyplot as plt\n",
    "import pandas as pd\n",
    "from scipy.stats import norm\n",
    "from scipy.stats.distributions import chi2"
   ]
  },
  {
   "cell_type": "markdown",
   "metadata": {
    "cell_id": "b6514770ed9942f7a9bd74d7ec07ff30",
    "deepnote_app_block_visible": false,
    "deepnote_cell_type": "markdown",
    "deepnote_to_be_reexecuted": false,
    "execution_millis": 110,
    "execution_start": 1707921606979,
    "source_hash": "cd3b1608"
   },
   "source": [
    "## 0. Preparation\n",
    "\n",
    "### 0.1. Import Data\n",
    "\n",
    "In this project, you will work with a time series of mean sea level observations at a specific location. The monthly mean sea level observations start from 1981 and span 40 years, ending at 2020. We provide the datasets of the following locations and you can choose one of them for this assignment. \n",
    "- [Delfzijl](SGDA_Delfzijl_MSL.csv)\n",
    "- [Harlingen](SGDA_Harlingen_MSL.csv)\n",
    "- [Den Helder](SGDA_Den_Helder_MSL.csv)\n",
    "- [Ijmuiden](SGDA_Ijmuiden_MSL.csv)\n",
    "- [Hoek van Holland](SGDA_Hoek_van_Holland_MSL.csv)\n",
    "- [Maassluis](SGDA_Maassluis_MSL.csv)\n",
    "- [Vlissingen](SGDA_Vlissingen_MSL.csv)\n",
    "\n",
    "The dataset of each station contains a time series ($2^{\\text{nd}}$ column), $t$ in [month], the sea level observation vector ($3^{\\text{rd}}$ column), $y$ in [m], and standard deviation of the measurement ($4^{\\text{th}}$ column), $\\sigma_{y}$ in [m]. \n",
    "Please load and visualize your data from SGDA_[location]_MSL.csv. **Make a plot showing $y$ _vs_ $t$**:"
   ]
  },
  {
   "cell_type": "code",
   "execution_count": 2,
   "metadata": {
    "cell_id": "8c32ffd928f042b2a32fad5ce1d77d9b",
    "deepnote_cell_type": "code",
    "deepnote_to_be_reexecuted": false,
    "execution_millis": 68,
    "execution_start": 1710422082797,
    "source_hash": null
   },
   "outputs": [],
   "source": [
    "# Add your code here to load and visualize the data"
   ]
  },
  {
   "cell_type": "markdown",
   "metadata": {
    "cell_id": "dfed41e6568248cc965f2fd6cfb30ae0",
    "deepnote_cell_type": "markdown"
   },
   "source": [
    "**Answer the following questions:**\n",
    "\n",
    "- Describe your plot (i.e., which conclusions do you draw about data, noise, trend?)"
   ]
  },
  {
   "cell_type": "markdown",
   "metadata": {
    "cell_id": "5b0d336f8c9c455aa1b687251b40adbd",
    "deepnote_cell_type": "markdown"
   },
   "source": [
    "_Your Answer/s_\n"
   ]
  },
  {
   "cell_type": "markdown",
   "metadata": {
    "cell_id": "09be27bd5b4040d8b011d322cf2211c3",
    "deepnote_cell_type": "markdown"
   },
   "source": [
    "\n",
    "- "
   ]
  },
  {
   "cell_type": "markdown",
   "metadata": {
    "cell_id": "e8ce2d441308406888e25c4c386ca02f",
    "deepnote_cell_type": "markdown"
   },
   "source": [
    "### 0.2. Set up $Q_{yy}$\n",
    "\n",
    "**Answer the following questions:**\n",
    "\n",
    "- Please create the variance-covariance matrix of the observations ($Q_{yy}$) in which all the observables are independent and follow the normal distribution. __Note__: The $4^{\\text{th}}$ column of the dataset gives the standard deviation of each measurement. \n",
    "- Could you provide the dimensions of the observable vector $y$ and the $Q_{yy}$-matrix? Additionally, could you print the $Q_{yy}$-matrix?"
   ]
  },
  {
   "cell_type": "code",
   "execution_count": 3,
   "metadata": {
    "cell_id": "b9c4105d34c3483eb8b85e37843d6940",
    "deepnote_cell_type": "code",
    "deepnote_to_be_reexecuted": false,
    "execution_millis": 153,
    "execution_start": 1708098484214,
    "source_hash": null
   },
   "outputs": [],
   "source": [
    "# Print and check your Q_yy here\n"
   ]
  },
  {
   "cell_type": "markdown",
   "metadata": {
    "cell_id": "2f66cd5a90b14a0cac1062f38a50d9f2",
    "deepnote_cell_type": "markdown"
   },
   "source": [
    "_Your Answer/s_\n"
   ]
  },
  {
   "cell_type": "markdown",
   "metadata": {
    "cell_id": "76b18903a1964327b0e67553f14a02af",
    "deepnote_cell_type": "markdown"
   },
   "source": [
    "\n",
    "\n",
    "- "
   ]
  },
  {
   "cell_type": "markdown",
   "metadata": {
    "cell_id": "4dd90bee32e84cc69057b66a4081c9bb",
    "deepnote_cell_type": "markdown"
   },
   "source": [
    "## 1. Estimation\n",
    "In this part of the project, you will fit the observations with different models and estimators. "
   ]
  },
  {
   "cell_type": "markdown",
   "metadata": {
    "cell_id": "db231d2ccdc34c139888d79221f657e4",
    "deepnote_cell_type": "markdown"
   },
   "source": [
    "### 1.1. Default Model\n",
    "We want to investigate how we could model the observations. From the plot of the mean sea level vs. time, we can see that the height is somewhat linearly increasing with time. We assume it can be modeled using a constant change rate $\\alpha$ and a bias $\\beta$. The model is defined as \n",
    "$$\n",
    "y(t) = \\alpha t + \\beta \n",
    "$$\n",
    "where $y(t)$ is the observations as a function of the known observation time $t$. Based on this model, please construct the functional model for estimation that is defined as \n",
    "$$\n",
    "\\mathbb{E}(\\underline{y}) = A_0x_0.\n",
    "$$\n",
    "\n",
    "**Answer the following questions:**\n",
    "- What are the unknowns of the functional model? What is the dimension of the unknown parameter vector $x_0$?\n",
    "- What do you put in the columns of the $A_0$ matrix?\n",
    "- What is the redundancy $r$ for this model? \n",
    "- Construct the design matrix $A_0$, print the first 5 rows."
   ]
  },
  {
   "cell_type": "markdown",
   "metadata": {
    "cell_id": "3070d9eb02a0406883b14f621eef375f",
    "deepnote_cell_type": "markdown"
   },
   "source": [
    "_Your Answer/s_"
   ]
  },
  {
   "cell_type": "markdown",
   "metadata": {
    "cell_id": "8a782f75decb4ed897e6e04588599e69",
    "deepnote_cell_type": "markdown"
   },
   "source": [
    "- "
   ]
  },
  {
   "cell_type": "code",
   "execution_count": 4,
   "metadata": {
    "cell_id": "179d73f3ca7149c185344cc74f076155",
    "deepnote_cell_type": "code",
    "deepnote_to_be_reexecuted": false,
    "execution_millis": 88,
    "execution_start": 1708098484279,
    "source_hash": null
   },
   "outputs": [],
   "source": [
    "#Construct the design matrix A0​, print the first 5 rows\n"
   ]
  },
  {
   "cell_type": "markdown",
   "metadata": {
    "cell_id": "ff4303368f7b413fb80aa1d29a74e8db",
    "deepnote_cell_type": "markdown"
   },
   "source": [
    "#### 1.1.1. Use BLUE to Estimate the Unknown Parameter $x$\n",
    "\n",
    "BLUE will be used several times in our project. Thus, we can define a function of BLUE. **Please finish the BLUE function below**:"
   ]
  },
  {
   "cell_type": "code",
   "execution_count": 5,
   "metadata": {
    "cell_id": "fc0dc6001258466c882250d6dac8507a",
    "deepnote_cell_type": "code",
    "deepnote_to_be_reexecuted": false,
    "execution_millis": 88,
    "execution_start": 1708098484280,
    "source_hash": null
   },
   "outputs": [
    {
     "ename": "SyntaxError",
     "evalue": "invalid syntax (2916106919.py, line 7)",
     "output_type": "error",
     "traceback": [
      "\u001b[1;36m  Cell \u001b[1;32mIn[5], line 7\u001b[1;36m\u001b[0m\n\u001b[1;33m    Q_x_hat =\u001b[0m\n\u001b[1;37m              ^\u001b[0m\n\u001b[1;31mSyntaxError\u001b[0m\u001b[1;31m:\u001b[0m invalid syntax\n"
     ]
    }
   ],
   "source": [
    "def BLUE():\n",
    "    \"\"\" \n",
    "    Function to calculate the Best Linear Unbiased Estimator\n",
    "    \"\"\"\n",
    "\n",
    "    # Add your code here\n",
    "    Q_x_hat = \n",
    "    x_hat = \n",
    "\n",
    "    return x_hat, Q_x_hat"
   ]
  },
  {
   "cell_type": "markdown",
   "metadata": {
    "cell_id": "857b433e00604da9847e0aa8249dcb27",
    "deepnote_cell_type": "markdown"
   },
   "source": [
    "**Answer the following questions:**\n",
    "- Print the value/s of $\\hat{x}$ and also indicate its units.\n",
    "- Print the standard deviations of $\\hat{x}$ along with its units.\n",
    "- If $\\hat{x}$ is a vector with more than one value, give the correlation coefficient between the unknown parameters."
   ]
  },
  {
   "cell_type": "code",
   "execution_count": null,
   "metadata": {
    "cell_id": "311bc6de897047c095f2b73e50dd0223",
    "deepnote_cell_type": "code",
    "deepnote_to_be_reexecuted": true,
    "execution_millis": 417,
    "execution_start": 1708096376190,
    "source_hash": null
   },
   "outputs": [],
   "source": [
    "# Obtain the estimate of x_0 with BLUE\n",
    "\n",
    "# Print your estimate and its standard deviation"
   ]
  },
  {
   "cell_type": "markdown",
   "metadata": {
    "cell_id": "b28bd12dfc31496dad134d939f420761",
    "deepnote_cell_type": "markdown"
   },
   "source": [
    "#### 1.1.2. Reflect on Estimation Results\n",
    "\n",
    "**Compute** the modeled height ($\\hat{y}$), and the residuals ($\\hat{e}=y-\\hat{y}$). **Create** a function to generate the following three plots:\n",
    "1. $y$ and $\\hat{y}$ vs. $t$,\n",
    "2. $\\hat{e}$ vs. $t$, with 99% confidence interval,\n",
    "3. Histogram of the normalized residuals $\\hat{e}_i/\\sigma_{\\hat{e}_i}$ (pay attention to the number of bins) and the PDF of the corresponding normal distribution (as you would expect it)."
   ]
  },
  {
   "cell_type": "code",
   "execution_count": null,
   "metadata": {
    "cell_id": "6c42105f57714f2fb3dba46bc92def5a",
    "deepnote_cell_type": "code",
    "deepnote_to_be_reexecuted": true,
    "execution_millis": 111,
    "execution_start": 1708071320218,
    "source_hash": null
   },
   "outputs": [],
   "source": [
    "# Functions to compute and plot y_hat and e_hat\n",
    "def plot_result():\n",
    "\n",
    "\n",
    "# Plot the results with your function"
   ]
  },
  {
   "cell_type": "markdown",
   "metadata": {
    "cell_id": "bc2dcbe1990e4af7ac20a5e4e0cdcc9f",
    "deepnote_cell_type": "markdown"
   },
   "source": [
    "**Answer the following questions:**\n",
    "- How do you compute $\\hat{y}$?\n",
    "- How do you compute $Q_{\\hat{e}\\hat{e}}$?\n",
    "- How do you obtain the 99% confidence region of $\\hat{e}$?\n",
    "- Why do we make a histogram of the <b>normalized</b> residuals?"
   ]
  },
  {
   "cell_type": "markdown",
   "metadata": {
    "cell_id": "527f845114ce4703a6527e54cbe109cc",
    "deepnote_cell_type": "markdown"
   },
   "source": [
    "_Your Answer/s_\n"
   ]
  },
  {
   "cell_type": "markdown",
   "metadata": {
    "cell_id": "16876950db58483d87c7061ca953fbe3",
    "deepnote_cell_type": "markdown"
   },
   "source": [
    "- "
   ]
  },
  {
   "cell_type": "markdown",
   "metadata": {
    "cell_id": "22e9816f5ecf43cfa886c605f2ced766",
    "deepnote_cell_type": "markdown"
   },
   "source": [
    "#### 1.1.3. Analyze the Results\n",
    "\n",
    "**Answer the following questions:**\n",
    "- What are the mean and empirical standard deviation of the normalized residuals?\n",
    "- Compare the histogram of the normalized residuals with the standard normal distribution. What can you conclude?\n",
    "- When you plot the residuals $\\hat{e}$ vs time $t$, do you see any systematic effect? Give your interpretation.\n",
    "- Do you think the default model fit the observations? Why?"
   ]
  },
  {
   "cell_type": "markdown",
   "metadata": {
    "cell_id": "a05a6dfe7834475c8a118a9c2b183e94",
    "deepnote_cell_type": "markdown"
   },
   "source": [
    "_Your Answer/s_\n"
   ]
  },
  {
   "cell_type": "markdown",
   "metadata": {
    "cell_id": "cb79d582adb7426d8cbdf136f1a68723",
    "deepnote_cell_type": "markdown"
   },
   "source": [
    "- "
   ]
  },
  {
   "cell_type": "markdown",
   "metadata": {
    "cell_id": "bd07bff8922c455b89591e43df79d4bf",
    "deepnote_cell_type": "markdown"
   },
   "source": [
    "#### 1.1.4. Conditioned Linear Model\n",
    "\n",
    "We have obtained $\\hat{y}$ based on the parametric model with BLUE, while it can also be obtained by solving the conditioned model. Please formulate the conditioned linear model and obtain $\\hat{y}$ with it. \n",
    "\n",
    "**Answer the following questions:**\n",
    "- What is the dimension of the $B$ matrix?\n",
    "- How do you formulate your $B$ matrix? (Find a proper $B$ matrix by yourself manually instead of using a _Python_ function. Hint: you can start with finding a structure of $B$ for the first column of $A_0$)\n",
    "- Explain why do you think your $B$ matrix is a correct one.\n",
    "- How do you solve the conditioned linear model?\n",
    "- Compare your results with that obtained from the parametric model."
   ]
  },
  {
   "cell_type": "markdown",
   "metadata": {
    "cell_id": "4758e9f251e94091a812d1230f3ff8d5",
    "deepnote_cell_type": "markdown"
   },
   "source": [
    "_Your Answer/s_\n"
   ]
  },
  {
   "cell_type": "markdown",
   "metadata": {
    "cell_id": "6ef2db5b404d4fe7bac9c7ec802bd461",
    "deepnote_cell_type": "markdown"
   },
   "source": [
    "- "
   ]
  },
  {
   "cell_type": "code",
   "execution_count": null,
   "metadata": {
    "cell_id": "a26e60a6c7444961a842c3d9fcbbd5b2",
    "deepnote_cell_type": "code",
    "deepnote_to_be_reexecuted": true,
    "execution_millis": 127,
    "execution_start": 1708000235306,
    "source_hash": null
   },
   "outputs": [],
   "source": [
    "# Add your code to construct the model and estimate $y_hat$"
   ]
  },
  {
   "cell_type": "markdown",
   "metadata": {
    "cell_id": "942cb092fb634fcbbcc2e1e8122a440c",
    "deepnote_cell_type": "markdown"
   },
   "source": [
    "### 1.2. Models with Different Parameters\n",
    "\n",
    "We try to find a model that can fit the observations with different parameters to the default model. Consider the following two models:\n",
    "\n",
    "- Model 1: remove the drift parameter $\\alpha$ that is proportional to $t$\n",
    "- Model 2: adding a parameter $\\theta$ that is proportional to a periodic trend $\\sin(\\frac{2\\pi}{12}t)$\n",
    "\n",
    "#### 1.2.1. Set up Models\n",
    "\n",
    "**Answer the following questions:**\n",
    "\n",
    "- Write down the functions of $y(t)$ for the above two models.\n",
    "- What will you put into the columns of $A$ matrices for these two models?\n",
    "- Set up you design matrices $A_1$ and $A_2$."
   ]
  },
  {
   "cell_type": "markdown",
   "metadata": {
    "cell_id": "2b8caeae6f4442869558f2e5132106cf",
    "deepnote_cell_type": "markdown"
   },
   "source": [
    "_Your Answer/s_"
   ]
  },
  {
   "cell_type": "markdown",
   "metadata": {
    "cell_id": "63d7e241312d4d1e828513ad643d8a0c",
    "deepnote_cell_type": "markdown"
   },
   "source": [
    "- "
   ]
  },
  {
   "cell_type": "code",
   "execution_count": null,
   "metadata": {
    "cell_id": "862c8c7cdd114d60af45a0d812f0e631",
    "deepnote_cell_type": "code",
    "deepnote_to_be_reexecuted": true,
    "source_hash": null
   },
   "outputs": [],
   "source": [
    "# Set up design matrices\n"
   ]
  },
  {
   "cell_type": "markdown",
   "metadata": {
    "cell_id": "fecca8cc501c4ed29625f85678810a8d",
    "deepnote_cell_type": "markdown"
   },
   "source": [
    "#### 1.2.2. Solve the Models\n",
    "\n",
    "**Answer the following questions:**\n",
    "- Estimate the parameters with BLUE for all the models: $\\hat{x}, Q_{\\hat{x}\\hat{x}}$.\n",
    "- Plot the results for all the models (use $\\texttt{plot\\_result()}$).\n",
    "- Print the mean of the normalized residuals and its standard deviation.\n",
    "- Which model fit the observations best? Please give at least three reasons to support your conclusion. In case, the default model reported on [1.1.2.](####-1.1.2.-Reflect-on-Estimation-Results) is deemed the best fit, please provide an explanation. "
   ]
  },
  {
   "cell_type": "markdown",
   "metadata": {
    "cell_id": "ab9bdfbe8d834efa92c0635ac8ea0ea4",
    "deepnote_cell_type": "markdown"
   },
   "source": [
    "_Your Answer/s_"
   ]
  },
  {
   "cell_type": "markdown",
   "metadata": {
    "cell_id": "7d6d6a067e7847f0a141258f74ce40b6",
    "deepnote_cell_type": "markdown"
   },
   "source": [
    "- "
   ]
  },
  {
   "cell_type": "code",
   "execution_count": null,
   "metadata": {
    "cell_id": "255684ffe8714ff19e987bfa687702e1",
    "deepnote_cell_type": "code",
    "deepnote_to_be_reexecuted": true,
    "source_hash": null
   },
   "outputs": [],
   "source": [
    "# Model 1\n"
   ]
  },
  {
   "cell_type": "code",
   "execution_count": null,
   "metadata": {
    "cell_id": "cec8910455504c1eab5a6275cafeaf9f",
    "deepnote_cell_type": "code",
    "deepnote_to_be_reexecuted": true,
    "source_hash": null
   },
   "outputs": [],
   "source": [
    "# Model 2"
   ]
  },
  {
   "cell_type": "markdown",
   "metadata": {
    "cell_id": "1fd391da0ca74c3f86d99948decc6b6e",
    "deepnote_cell_type": "markdown"
   },
   "source": [
    "## 1.3. Least-Squares Estimator\n",
    "\n",
    "We use the BLUE in the previous section. Now, we can also try the least-squares (LS) and weighted least-squares (WLS) estimators.\n",
    "\n",
    "### 1.3.1. Weighted least-Squares\n",
    "\n",
    "**Please define the function for WLS:**"
   ]
  },
  {
   "cell_type": "code",
   "execution_count": null,
   "metadata": {
    "cell_id": "d17d949b42bc482d84be213c49bea21c",
    "deepnote_cell_type": "code",
    "deepnote_to_be_reexecuted": true,
    "source_hash": null
   },
   "outputs": [],
   "source": [
    "# Define your weighted least-squares function here\n",
    "def WLS():\n",
    "    \"\"\" \n",
    "    Function to calculate the weighted least-squares \n",
    "    \"\"\"\n",
    "\n",
    "    # Add your code here\n",
    "    x_hat =\n",
    "    Q_x_hat = \n",
    "\n",
    "    return x_hat, Q_x_hat"
   ]
  },
  {
   "cell_type": "markdown",
   "metadata": {
    "cell_id": "b470e5ce6f2e4034b38a9283390caca4",
    "deepnote_cell_type": "markdown"
   },
   "source": [
    "### 1.3.2. Least-Squares and Weighted Least-Squares\n",
    "\n",
    "In this section, we use the best fit model you chose in [1.2.2.](####-1.2.2.-Solve-the-Models) for estimation. \n",
    "\n",
    "**Answer the following questions:**\n",
    "- Define a weight matrix yourself (other than an $\\sigma^2I_m$ and $Q_{yy}^{-1}$) for WLS.\n",
    "- Apply LS and WLS, compare your estimates and standard deviations with those of BLUE (Remember the units!)."
   ]
  },
  {
   "cell_type": "code",
   "execution_count": null,
   "metadata": {
    "cell_id": "98c4f814867046ce9d98bf2409d471b2",
    "deepnote_cell_type": "code",
    "deepnote_to_be_reexecuted": true,
    "source_hash": null
   },
   "outputs": [],
   "source": [
    "# Define weight matrix\n",
    "\n",
    "\n",
    "# Estimates LS and WLS"
   ]
  },
  {
   "cell_type": "markdown",
   "metadata": {
    "cell_id": "ebbcdca1de1d47a2bf0cc3cce9972670",
    "deepnote_cell_type": "markdown"
   },
   "source": [
    "**Answer the following questions and give explanations:**\n",
    "- Is WLS always a better estimator than LS? Why?\n",
    "- You may get different WLS estimators by applying different weight matrices. Can you find a WLS estimator that has smaller variance than BLUE? Why?\n",
    "- If you apply WLS with two different $W$ matrices to solve your unknown, $W_2 = kW_1$, $k\\in \\mathbb{R}^+$, do you obtain the same estimate $\\hat{x}$? And do you obtain the same estimator $\\hat{\\underline{x}}$? \n",
    "- If you apply BLUE with two different $Q_{yy}$ matrices to solve your unknown, $Q_{yy,2} = kQ_{yy,1}$, $k\\in \\mathbb{R}^+$, do you obtain the same estimate $\\hat{x}$? And do you obtain the same estimator $\\hat{\\underline{x}}$?"
   ]
  },
  {
   "cell_type": "markdown",
   "metadata": {
    "cell_id": "1ea5d1cd5c9f431db4946a89ceada681",
    "deepnote_cell_type": "markdown"
   },
   "source": [
    "_Your Answer/s_"
   ]
  },
  {
   "cell_type": "markdown",
   "metadata": {
    "cell_id": "1f96090432d74275a61e78ce4f913f9c",
    "deepnote_cell_type": "markdown"
   },
   "source": [
    "- "
   ]
  },
  {
   "cell_type": "markdown",
   "metadata": {
    "cell_id": "f79cd151119f44b8b5fb7ae4b88fe51e",
    "deepnote_app_block_visible": false,
    "deepnote_cell_type": "markdown",
    "deepnote_to_be_reexecuted": false,
    "execution_millis": 86,
    "execution_start": 1708012778826,
    "source_hash": "3c44bb62"
   },
   "source": [
    "## 1.4. Constrained Linear Model\n",
    "\n",
    "If we want to apply constraints on parameters, we can use the constrained linear model. Please consider the Default Model. Now, we constrain the bias parameter in the default model to the first tide gauge measurement $y(0)$. \n",
    "\n",
    "\n",
    "**Answer the following questions:**\n",
    "- What is the shape of the $C$ matrix? How do you define $C$?\n",
    "- What is the redundancy $r$ of the constrained model?\n",
    "- How do you solve this constrained model ($\\hat{x}$)?\n",
    "- How to compute the $Q_{\\hat{x}\\hat{x}}$ matrix of the constrained estimator? (You can derive it based on error propagation law)\n",
    "- Obtain the constrained estimate and the corresponding standard deviation.\n",
    "- How does the standard deviation of the estimator change after we apply the constraint? Try to explain it."
   ]
  },
  {
   "cell_type": "markdown",
   "metadata": {
    "cell_id": "fd37a43da8214ced8a9623f557fa371b",
    "deepnote_cell_type": "markdown"
   },
   "source": [
    "_Your Answer/s_"
   ]
  },
  {
   "cell_type": "markdown",
   "metadata": {
    "cell_id": "4e66b856179d4011a7dc112171fb9e90",
    "deepnote_cell_type": "markdown"
   },
   "source": [
    "- "
   ]
  },
  {
   "cell_type": "code",
   "execution_count": null,
   "metadata": {
    "cell_id": "5f78de363e8a4ad0a407d39c0b96fa26",
    "deepnote_cell_type": "code",
    "deepnote_to_be_reexecuted": true,
    "source_hash": null
   },
   "outputs": [],
   "source": [
    "# Construct C matrix\n",
    "\n",
    "# Compute x_hat and Qxx_hat\n",
    "\n",
    "# Print results"
   ]
  },
  {
   "cell_type": "markdown",
   "metadata": {
    "cell_id": "3de05297c70a4338b0935a6f195261b1",
    "deepnote_cell_type": "markdown"
   },
   "source": [
    "## 2. Testing\n",
    "\n",
    "In this part of the assignment, you will apply the theory of statistical testing to select the best fit model and conduct the data snooping to detect outliers in the measurements.\n",
    "\n",
    "### 2.1. Model Selection\n",
    "#### 2.1.1. Apply Overall Model Test (OMT) to check whether $\\mathcal{H}_0$ is accepted\n",
    "\n",
    "**Answer the following questions:**\n",
    "- You can apply the OMT based on parametric model and also the conditioned model. How do you compute the OMT statistic with these two types of models and what is the distribution of it?\n",
    "- Choose a false alarm rate $\\alpha$ yourself, what is the critical value corresponding to that?\n",
    "- What is the impact on the test if the false alarm rate $\\alpha$ is increased?\n",
    "- Conduct the OMT based on parametric model and conditioned model. What's your conclusion?"
   ]
  },
  {
   "cell_type": "markdown",
   "metadata": {
    "cell_id": "67448627c13c4d629d4f83355fd9da49",
    "deepnote_cell_type": "markdown"
   },
   "source": [
    "_Your Answer/s_"
   ]
  },
  {
   "cell_type": "markdown",
   "metadata": {
    "cell_id": "9470ac13e352418a92fc6af8066b0bcd",
    "deepnote_cell_type": "markdown"
   },
   "source": [
    "-"
   ]
  },
  {
   "cell_type": "code",
   "execution_count": null,
   "metadata": {
    "cell_id": "444db0b71e0e4f999e8c5e55cf35de83",
    "deepnote_cell_type": "code"
   },
   "outputs": [],
   "source": [
    "# Create your function here for the OMT test\n",
    "def overall_model_test():\n",
    "\n",
    "    return "
   ]
  },
  {
   "cell_type": "code",
   "execution_count": null,
   "metadata": {
    "cell_id": "a4620906a5cb4a20b9b743b9329c8401",
    "deepnote_cell_type": "code"
   },
   "outputs": [],
   "source": [
    "# Apply OMT\n"
   ]
  },
  {
   "cell_type": "markdown",
   "metadata": {
    "cell_id": "331922e51a834337951fb46452f22abc",
    "deepnote_cell_type": "markdown"
   },
   "source": [
    "#### 2.1.2. Apply Generalized Likelihood Ratio (GLR) Test and choose the Best Fit Model\n",
    "**Answer the following questions:**\n",
    "- How do you compute the test statistic of GLR test with the parametric model? What is the distribution of it under null hypothesis $\\mathcal{H}_0$ where the default model is correct?\n",
    "- Why the GLR test statistic is always positive?\n",
    "- Choose a false alarm rate $\\alpha$ yourself, what is the critical value corresponding to that?\n",
    "- What is the impact on the GLR test if the false alarm rate $\\alpha$ is increased?\n",
    "- Can you choose a best fit model from the models given in [1.2.](###-1.2.-Models-with-Different-Parameters) based on the test statistics of the GLR test? Explain your reason."
   ]
  },
  {
   "cell_type": "markdown",
   "metadata": {
    "cell_id": "cc025fee8a0543ff9b67bcb4711845d2",
    "deepnote_cell_type": "markdown"
   },
   "source": [
    "_Your Answer/s_"
   ]
  },
  {
   "cell_type": "markdown",
   "metadata": {
    "cell_id": "7b817a90e0864efcb2dcc7bdfe6da2ae",
    "deepnote_cell_type": "markdown"
   },
   "source": [
    "-"
   ]
  },
  {
   "cell_type": "code",
   "execution_count": null,
   "metadata": {
    "cell_id": "b4038769f549428d957b0745f5fafb82",
    "deepnote_cell_type": "code"
   },
   "outputs": [],
   "source": [
    "# Create your function here to compute the GLR test statistics\n",
    "def generalized_likelihood_ratio_test():\n",
    "\n",
    "    return"
   ]
  },
  {
   "cell_type": "code",
   "execution_count": null,
   "metadata": {
    "cell_id": "039d7a939a264aabb1159905642e89b7",
    "deepnote_cell_type": "code"
   },
   "outputs": [],
   "source": [
    "# Apply GLR Test\n"
   ]
  },
  {
   "cell_type": "markdown",
   "metadata": {
    "cell_id": "ae3fb80ba10d4947bf3660f089862c9f",
    "deepnote_cell_type": "markdown"
   },
   "source": [
    "### 2.2. Data Snooping\n",
    "We use a different dataset SGDA_[location]_outlier.csv for this exercise, which contains several outliers compared with the observations we used before. Your task is to find out these outliers with data snooping. \n",
    "\n",
    "1. Load the dataset and estimate the parameters with the best fit model you choose in [2.1.2.](#212-apply-generalized-likelihood-ratio-glr-test-and-choose-the-best-fit-model), then plot the figures required in [1.1.2.](####-1.1.2.-Reflect-on-Estimation-Results). \n",
    "\n",
    "2. Describe the impact of the outliers on the curve fitting.\n",
    "\n",
    "3. Apply the OMT with $\\alpha=0.01$. What is the outcome of the test?\n"
   ]
  },
  {
   "cell_type": "markdown",
   "metadata": {
    "cell_id": "4d3ec66fecf448fa9aac7d80c81bbd28",
    "deepnote_cell_type": "markdown"
   },
   "source": [
    "_Your Answer/s_"
   ]
  },
  {
   "cell_type": "markdown",
   "metadata": {
    "cell_id": "6a06a8c3472140f3b3899ba46c139077",
    "deepnote_cell_type": "markdown"
   },
   "source": [
    "-"
   ]
  },
  {
   "cell_type": "code",
   "execution_count": null,
   "metadata": {
    "cell_id": "5f7ee23fb14c4567b12cb3324e30f79f",
    "deepnote_cell_type": "code"
   },
   "outputs": [],
   "source": [
    "# Load the dataset\n",
    "\n",
    "\n",
    "# Estimate the model parameters\n",
    "\n",
    "\n",
    "# Apply OMT\n"
   ]
  },
  {
   "cell_type": "markdown",
   "metadata": {
    "cell_id": "e65f9c52e1ed451190f121ae33ccf883",
    "deepnote_cell_type": "markdown"
   },
   "source": [
    "4. Describe the steps of data snooping. \n",
    "\n",
    "5. Carry out the data snooping; stop the interation until OMT is not rejected or no outliers are detected. Please set the false alarm rate ($\\alpha$) for both $w$-test and overall model test to $0.01$. During which months are outliers detected? (_Please remember to save a copy of the observations, the corresponding $Q_{yy}$-matrix, $A$-matrix and time vector $t$, because data snooping will overwrite them._)\n",
    "\n",
    "6. Outliers can be revealed by plotting the observations with and without outliers in the same figure. Plot the figure, and identify which outliers are detected and which are not. Try to explain that.\n",
    "\n",
    "7. Change the false alarm rate $\\alpha$ of the overall model test to $0.1$ and repeat Question 5 and 6. What happens on the outcome of the data snooping? Please explain that."
   ]
  },
  {
   "cell_type": "markdown",
   "metadata": {
    "cell_id": "0504c9b2b8594af086f246a89b4779cc",
    "deepnote_cell_type": "markdown"
   },
   "source": [
    "_Your Answer/s_"
   ]
  },
  {
   "cell_type": "markdown",
   "metadata": {
    "cell_id": "82fa91c4866c4f99872b39c489d33b3e",
    "deepnote_cell_type": "markdown"
   },
   "source": [
    "-"
   ]
  },
  {
   "cell_type": "code",
   "execution_count": null,
   "metadata": {
    "cell_id": "767b2bcb7c4c45adb8e5bd9f5658ea39",
    "deepnote_cell_type": "code"
   },
   "outputs": [],
   "source": [
    "# Carry out data snooping\n",
    "\n",
    "\n",
    "# Plot\n"
   ]
  },
  {
   "cell_type": "code",
   "execution_count": null,
   "metadata": {
    "cell_id": "fbf993e045154b7084709263ef10a954",
    "deepnote_cell_type": "code"
   },
   "outputs": [],
   "source": [
    "# Carry out data snooping (with different alpha)\n",
    "\n",
    "\n",
    "# Plot"
   ]
  },
  {
   "cell_type": "markdown",
   "metadata": {
    "created_in_deepnote_cell": true,
    "deepnote_cell_type": "markdown"
   },
   "source": [
    "<a style='text-decoration:none;line-height:16px;display:flex;color:#5B5B62;padding:10px;justify-content:end;' href='https://deepnote.com?utm_source=created-in-deepnote-cell&projectId=8bacb327-f2a0-4957-9857-8c8905c168a0' target=\"_blank\">\n",
    "<img alt='Created in deepnote.com' style='display:inline;max-height:16px;margin:0px;margin-right:7.5px;' src='data:image/svg+xml;base64,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' > </img>\n",
    "Created in <span style='font-weight:600;margin-left:4px;'>Deepnote</span></a>"
   ]
  }
 ],
 "metadata": {
  "deepnote_execution_queue": [],
  "deepnote_notebook_id": "a171164537d2422f9f997c1ae41de04d",
  "deepnote_persisted_session": {
   "createdAt": "2024-03-14T13:30:33.265Z"
  },
  "kernelspec": {
   "display_name": "Python 3 (ipykernel)",
   "language": "python",
   "name": "python3"
  },
  "language_info": {
   "codemirror_mode": {
    "name": "ipython",
    "version": 3
   },
   "file_extension": ".py",
   "mimetype": "text/x-python",
   "name": "python",
   "nbconvert_exporter": "python",
   "pygments_lexer": "ipython3",
   "version": "3.9.13"
  }
 },
 "nbformat": 4,
 "nbformat_minor": 1
}
